{
 "cells": [
  {
   "cell_type": "code",
   "execution_count": null,
   "metadata": {},
   "outputs": [],
   "source": [
    "import datasets\n",
    "import datetime\n",
    "import json\n",
    "import os\n",
    "import pandas as pd\n",
    "\n",
    "from huggingface_hub import DatasetCard, DatasetCardData"
   ]
  },
  {
   "cell_type": "code",
   "execution_count": null,
   "metadata": {},
   "outputs": [],
   "source": [
    "DATA_PATH = \"./data\"\n",
    "\n",
    "ID2LABELS_PATH = os.path.join(DATA_PATH, \"id2label.json\")\n",
    "\n",
    "ID2LABEL = {}\n",
    "with open(ID2LABELS_PATH) as json_file_read:\n",
    "    ID2LABEL = {int(k):v for k,v in json.load(json_file_read).items()}\n",
    "\n",
    "LABEL2ID = {v:int(k) for k,v in ID2LABEL.items()}\n",
    "\n",
    "ID2SUPERLABEL = {int(k): v if v == \"N/A\" else \"face\" for k,v in ID2LABEL.items()}\n",
    "SUPERLABEL2SUPERID = {sl:si for si,sl in enumerate(set([l for l in ID2SUPERLABEL.values()]))}\n",
    "ID2SUPERID = {int(k): int(SUPERLABEL2SUPERID[v]) for k,v in ID2SUPERLABEL.items()}\n",
    "\n",
    "DATA_INFO = [\n",
    "  {\n",
    "    \"name\": \"cordiais\",\n",
    "    \"license_id\": 1,\n",
    "    \"date\": \"2023-06-10 00:00:00\",\n",
    "    \"include_pct\": 0.5,\n",
    "    \"source_path\": os.path.join(DATA_PATH, \"cordiais-source\"),\n",
    "    \"json_path\": os.path.join(DATA_PATH, \"cordiais.json\")\n",
    "  },\n",
    "  {\n",
    "    \"name\": \"metfaces\",\n",
    "    \"license_id\": 1,\n",
    "    \"date\": \"2020-06-10 00:00:00\",\n",
    "    \"include_pct\": 1.0,\n",
    "    \"source_path\": os.path.join(DATA_PATH, \"metfaces-source\"),\n",
    "    \"json_path\": os.path.join(DATA_PATH, \"metfaces.json\")\n",
    "  }\n",
    "]\n",
    "\n",
    "for ds in DATA_INFO:\n",
    "  file_list = sorted([f.replace(\".jpg\", \"\") for f in os.listdir(ds[\"source_path\"]) if f.endswith(\".jpg\")])\n",
    "  include_length = int(ds[\"include_pct\"] * len(file_list))\n",
    "  ds[\"source_list\"] = file_list[:include_length]\n",
    "\n",
    "ALL_IMGS = [img for subl in [ds[\"source_list\"] for ds in DATA_INFO] for img in subl]\n",
    "IMG2ID = {img:id for id,img in enumerate(ALL_IMGS)}\n"
   ]
  },
  {
   "cell_type": "markdown",
   "metadata": {},
   "source": [
    "### Create HF Dataset"
   ]
  },
  {
   "cell_type": "code",
   "execution_count": null,
   "metadata": {},
   "outputs": [],
   "source": [
    "slug2obj = {}\n",
    "object_count = 0\n",
    "\n",
    "for ds in DATA_INFO:\n",
    "  with open(ds[\"json_path\"]) as json_file_read:\n",
    "    data_json = json.load(json_file_read)\n",
    "\n",
    "    for object_info in data_json:\n",
    "      object_slug = object_info[\"source_image\"]\n",
    "\n",
    "      if object_slug in ds[\"source_list\"]:\n",
    "        if object_slug not in slug2obj:\n",
    "          slug2obj[object_slug] = {\n",
    "            \"image_id\": IMG2ID[object_slug],\n",
    "            \"image\": os.path.join(ds[\"source_path\"], \"%s.jpg\" % object_slug),\n",
    "            \"image_filename\": \"%s.jpg\" % object_slug,\n",
    "            \"width\": object_info[\"source_image_w\"],\n",
    "            \"height\": object_info[\"source_image_h\"],\n",
    "            \"license_id\": ds[\"license_id\"],\n",
    "            \"date_captured\": ds[\"date\"],\n",
    "            \"objects\": []\n",
    "          }\n",
    "\n",
    "        slug2obj[object_slug][\"objects\"].append({\n",
    "          \"bbox_id\": object_count,\n",
    "          \"area\": object_info[\"face_rect_xywh\"][2] * object_info[\"face_rect_xywh\"][3],\n",
    "          \"bbox\": object_info[\"face_rect_xywh\"],\n",
    "          \"category\": ID2LABEL[object_info[\"gender\"]],\n",
    "          \"super_category\": ID2SUPERLABEL[object_info[\"gender\"]],\n",
    "          \"is_crowd\": False\n",
    "        })\n",
    "        object_count += 1\n",
    "\n",
    "records = json.loads(json.dumps(list(slug2obj.values())))\n"
   ]
  },
  {
   "cell_type": "code",
   "execution_count": null,
   "metadata": {},
   "outputs": [],
   "source": [
    "for r in records:\n",
    "  r[\"objects\"] = pd.DataFrame(r[\"objects\"]).to_dict('list')\n",
    "\n",
    "df_dict = pd.DataFrame(records).to_dict('list')\n"
   ]
  },
  {
   "cell_type": "code",
   "execution_count": null,
   "metadata": {},
   "outputs": [],
   "source": [
    "CORDIAIS_FEATURES = datasets.Features({\n",
    "  \"image_id\": datasets.Value(\"int64\"),\n",
    "  \"image\": datasets.Image(decode=True),\n",
    "  \"image_filename\": datasets.Value(\"string\"),\n",
    "  \"width\": datasets.Value(\"int64\"),\n",
    "  \"height\": datasets.Value(\"int64\"),\n",
    "  \"license_id\": datasets.Value(\"int64\"),\n",
    "  \"date_captured\": datasets.Value(\"string\"),\n",
    "  \"objects\": datasets.Sequence(feature={\n",
    "    \"bbox_id\": datasets.Value(\"int64\"),\n",
    "    \"category\": datasets.ClassLabel(names=list(LABEL2ID.keys())),\n",
    "    \"bbox\": datasets.Sequence(feature=datasets.Value(\"int64\"), length=4),\n",
    "    \"super_category\": datasets.ClassLabel(names=list(SUPERLABEL2SUPERID.keys())),\n",
    "    \"area\": datasets.Value(\"int64\"),\n",
    "    \"is_crowd\": datasets.Value(\"bool\")\n",
    "  })\n",
    "})\n",
    "\n",
    "CORDIAIS_INFO = {\n",
    "  \"version\": \"1.0.0\",\n",
    "  \"description\": \"Object Detection dataset to detect female-ish faces in paintings\",\n",
    "  \"year\": 2023,\n",
    "  \"contributor\": \"Thiago Hersan\",\n",
    "  \"url\": \"https://huggingface.co/datasets/thiagohersan/cordiais-faces\",\n",
    "  \"date_created\": \"%s\" % datetime.datetime.now(),\n",
    "  \"categories\": [\n",
    "    { \"id\": i, \"name\": l, \"supercategory\": ID2SUPERLABEL[i] } for i,l in ID2LABEL.items()\n",
    "  ],\n",
    "  \"licenses\": [\n",
    "    { \"id\": 1, \"name\": \"CC BY-NC 2.0\", \"url\": \"https://creativecommons.org/licenses/by-nc/2.0/\" }\n",
    "  ],\n",
    "  \"references\": [\n",
    "    { \"id\": 1, \"name\": \"Training Generative Adversarial Networks with Limited Data\", \"url\": \"https://doi.org/10.48550/arXiv.2006.06676\" }\n",
    "  ]\n",
    "}"
   ]
  },
  {
   "cell_type": "code",
   "execution_count": null,
   "metadata": {},
   "outputs": [],
   "source": [
    "hf_dataset = datasets.Dataset.from_dict(df_dict, features=CORDIAIS_FEATURES)\n",
    "hf_dataset.info.description = CORDIAIS_INFO[\"description\"]\n",
    "hf_dataset.info.version = CORDIAIS_INFO[\"version\"]\n",
    "hf_dataset.info.license = CORDIAIS_INFO[\"licenses\"][0][\"name\"]"
   ]
  },
  {
   "cell_type": "code",
   "execution_count": null,
   "metadata": {},
   "outputs": [],
   "source": [
    "hf_dataset.push_to_hub(\"thiagohersan/cordiais-faces\", private=True)"
   ]
  }
 ],
 "metadata": {
  "kernelspec": {
   "display_name": "Python 3.9.17 ('hf-model')",
   "language": "python",
   "name": "python3"
  },
  "language_info": {
   "codemirror_mode": {
    "name": "ipython",
    "version": 3
   },
   "file_extension": ".py",
   "mimetype": "text/x-python",
   "name": "python",
   "nbconvert_exporter": "python",
   "pygments_lexer": "ipython3",
   "version": "3.9.17"
  },
  "orig_nbformat": 4,
  "vscode": {
   "interpreter": {
    "hash": "89e384cab7c47fb35ec95d2248b519cf922ee174880eed636c26cdfb6c4df768"
   }
  }
 },
 "nbformat": 4,
 "nbformat_minor": 2
}
